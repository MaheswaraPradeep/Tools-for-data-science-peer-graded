{
 "cells": [
  {
   "cell_type": "markdown",
   "id": "55d78f1e",
   "metadata": {},
   "source": [
    "# Data Science Tools and Ecosystem"
   ]
  },
  {
   "cell_type": "markdown",
   "id": "60330887",
   "metadata": {},
   "source": [
    "In this notebook, Data Science Tools and Ecosystem are summarized."
   ]
  },
  {
   "cell_type": "raw",
   "id": "e073af74",
   "metadata": {},
   "source": [
    "Some of the popular languages that Data Scientists use are:\n",
    "    1.Python\n",
    "    2. R\n",
    "    3.SQL\n",
    "    4.JAVA\n",
    "    5.C++ etc"
   ]
  },
  {
   "cell_type": "raw",
   "id": "5a0b0f3f",
   "metadata": {},
   "source": [
    "Some of the commonly used libraries used by Data Scientists include:\n",
    "    1. Numpy\n",
    "    2.Pandas\n",
    "    3.Matplotlib\n",
    "    4.Seaborn\n",
    "    5.Tensorflow\n",
    "    6.Keras\n",
    "    7.Scikit-Learn etc"
   ]
  },
  {
   "cell_type": "markdown",
   "id": "9f18fd8b",
   "metadata": {},
   "source": [
    "|Data Science Tools|\n",
    "|----|\n",
    "|SAAS|\n",
    "|Apache Hadoop|\n",
    "|TensorFlow|"
   ]
  },
  {
   "cell_type": "markdown",
   "id": "c5ad23f0",
   "metadata": {},
   "source": [
    "### Below are a few examples of evaluating arithmetic expressions in Python"
   ]
  },
  {
   "cell_type": "code",
   "execution_count": 4,
   "id": "1166610f",
   "metadata": {},
   "outputs": [
    {
     "data": {
      "text/plain": [
       "17"
      ]
     },
     "execution_count": 4,
     "metadata": {},
     "output_type": "execute_result"
    }
   ],
   "source": [
    "#This a simple arithmetic expression to mutiply then add integers\n",
    "(3*4)+5"
   ]
  },
  {
   "cell_type": "code",
   "execution_count": 5,
   "id": "21f41480",
   "metadata": {},
   "outputs": [
    {
     "data": {
      "text/plain": [
       "3.3333333333333335"
      ]
     },
     "execution_count": 5,
     "metadata": {},
     "output_type": "execute_result"
    }
   ],
   "source": [
    "#  This will convert 200 minutes to hours by diving by 60\n",
    "200/60"
   ]
  },
  {
   "cell_type": "markdown",
   "id": "b9335673",
   "metadata": {},
   "source": [
    "__Objectives__\n",
    "* List Popular languages for data science\n",
    "* List popular libraries for data science\n",
    "* List of well known data science tools\n",
    "* How to provide comments in the cell"
   ]
  },
  {
   "cell_type": "markdown",
   "id": "9450f995",
   "metadata": {},
   "source": [
    "## Author\n",
    "Maheswara Pradeep"
   ]
  },
  {
   "cell_type": "code",
   "execution_count": null,
   "id": "97b942aa",
   "metadata": {},
   "outputs": [],
   "source": []
  }
 ],
 "metadata": {
  "kernelspec": {
   "display_name": "Python 3 (ipykernel)",
   "language": "python",
   "name": "python3"
  },
  "language_info": {
   "codemirror_mode": {
    "name": "ipython",
    "version": 3
   },
   "file_extension": ".py",
   "mimetype": "text/x-python",
   "name": "python",
   "nbconvert_exporter": "python",
   "pygments_lexer": "ipython3",
   "version": "3.10.9"
  }
 },
 "nbformat": 4,
 "nbformat_minor": 5
}
